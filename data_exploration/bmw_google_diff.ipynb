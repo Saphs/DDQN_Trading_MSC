{
 "cells": [
  {
   "cell_type": "code",
   "execution_count": 2,
   "metadata": {
    "collapsed": true,
    "ExecuteTime": {
     "end_time": "2023-06-29T11:50:17.212802800Z",
     "start_time": "2023-06-29T11:50:16.573523500Z"
    }
   },
   "outputs": [],
   "source": [
    "import pandas as pd\n",
    "\n"
   ]
  },
  {
   "cell_type": "code",
   "execution_count": 6,
   "outputs": [
    {
     "name": "stdout",
     "output_type": "stream",
     "text": [
      "            Date         Open         High          Low        Close   \n",
      "0     2010-01-04   313.788788   315.070068   312.432434   313.688690  \\\n",
      "1     2010-01-05   313.903900   314.234222   311.081085   312.307312   \n",
      "2     2010-01-06   313.243256   313.243256   303.483490   304.434448   \n",
      "3     2010-01-07   305.005005   305.305298   296.621613   297.347351   \n",
      "4     2010-01-08   296.296295   301.926941   294.849854   301.311310   \n",
      "...          ...          ...          ...          ...          ...   \n",
      "2674  2020-08-18  1526.119995  1557.369995  1521.670044  1555.780029   \n",
      "2675  2020-08-19  1552.489990  1568.859985  1540.000000  1544.609985   \n",
      "2676  2020-08-20  1539.969971  1580.170044  1534.459961  1576.250000   \n",
      "2677  2020-08-21  1571.800049  1591.880005  1562.310059  1575.569946   \n",
      "2678  2020-08-24  1592.469971  1608.780029  1575.040039  1585.150024   \n",
      "\n",
      "        Adj Close    Volume  \n",
      "0      313.688690   3908400  \n",
      "1      312.307312   6003300  \n",
      "2      304.434448   7949400  \n",
      "3      297.347351  12815700  \n",
      "4      301.311310   9439100  \n",
      "...           ...       ...  \n",
      "2674  1555.780029   1418900  \n",
      "2675  1544.609985   1523600  \n",
      "2676  1576.250000   1319100  \n",
      "2677  1575.569946   1741900  \n",
      "2678  1585.150024   1281100  \n",
      "\n",
      "[2679 rows x 7 columns]\n",
      "<class 'pandas.core.frame.DataFrame'>\n",
      "RangeIndex: 2679 entries, 0 to 2678\n",
      "Data columns (total 7 columns):\n",
      " #   Column     Non-Null Count  Dtype  \n",
      "---  ------     --------------  -----  \n",
      " 0   Date       2679 non-null   object \n",
      " 1   Open       2679 non-null   float64\n",
      " 2   High       2679 non-null   float64\n",
      " 3   Low        2679 non-null   float64\n",
      " 4   Close      2679 non-null   float64\n",
      " 5   Adj Close  2679 non-null   float64\n",
      " 6   Volume     2679 non-null   int64  \n",
      "dtypes: float64(5), int64(1), object(1)\n",
      "memory usage: 146.6+ KB\n",
      "None\n",
      "              Open         High          Low        Close    Adj Close   \n",
      "count  2679.000000  2679.000000  2679.000000  2679.000000  2679.000000  \\\n",
      "mean    696.944267   703.138705   690.404695   697.024999   697.024999   \n",
      "std     365.211682   369.017333   361.615512   365.617848   365.617848   \n",
      "min     219.374374   221.361359   217.032028   218.253250   218.253250   \n",
      "25%     333.200699   336.208709   330.585587   334.379379   334.379379   \n",
      "50%     591.739990   595.580017   587.919983   592.112122   592.112122   \n",
      "75%    1037.019959  1050.770019  1024.434998  1036.820007  1036.820007   \n",
      "max    1592.469971  1608.780029  1575.040039  1585.150024  1585.150024   \n",
      "\n",
      "             Volume  \n",
      "count  2.679000e+03  \n",
      "mean   3.310705e+06  \n",
      "std    2.626655e+06  \n",
      "min    5.206000e+05  \n",
      "25%    1.545050e+06  \n",
      "50%    2.383200e+06  \n",
      "75%    4.352950e+06  \n",
      "max    2.961990e+07  \n"
     ]
    }
   ],
   "source": [
    "google_df = pd.read_csv(\"../data_acquisition/data_sink/source_files/GOOGL.csv\")\n",
    "print(google_df)\n",
    "print(google_df.info())\n",
    "print(google_df.describe())"
   ],
   "metadata": {
    "collapsed": false,
    "ExecuteTime": {
     "end_time": "2023-06-29T11:53:25.224154700Z",
     "start_time": "2023-06-29T11:53:25.177859300Z"
    }
   }
  },
  {
   "cell_type": "code",
   "execution_count": 7,
   "outputs": [
    {
     "name": "stdout",
     "output_type": "stream",
     "text": [
      "            Date       Open       High        Low      Close  Adj Close   \n",
      "0     2000-01-03  30.600000  31.500000  28.799999  29.100000  14.911786  \\\n",
      "1     2000-01-04  29.450001  29.450001  27.500000  28.200001  14.450600   \n",
      "2     2000-01-05  27.299999  27.950001  27.100000  27.700001  14.194384   \n",
      "3     2000-01-06  27.799999  28.200001  27.030001  28.200001  14.450600   \n",
      "4     2000-01-07  28.200001  28.400000  27.500000  27.700001  14.194384   \n",
      "...          ...        ...        ...        ...        ...        ...   \n",
      "5866  2022-12-09  82.949997  84.620003  82.949997  84.510002  84.510002   \n",
      "5867  2022-12-12  83.949997  84.540001  83.949997  84.540001  84.540001   \n",
      "5868  2022-12-13  84.959999  85.000000  83.980003  84.180000  84.180000   \n",
      "5869  2022-12-14  83.919998  84.309998  83.529999  83.580002  83.580002   \n",
      "5870  2022-12-15  83.860001  83.860001  82.800003  82.800003  82.800003   \n",
      "\n",
      "        Volume  \n",
      "0     138500.0  \n",
      "1     187000.0  \n",
      "2     136400.0  \n",
      "3      91900.0  \n",
      "4     142000.0  \n",
      "...        ...  \n",
      "5866     219.0  \n",
      "5867     733.0  \n",
      "5868    1165.0  \n",
      "5869     907.0  \n",
      "5870     695.0  \n",
      "\n",
      "[5871 rows x 7 columns]\n",
      "<class 'pandas.core.frame.DataFrame'>\n",
      "RangeIndex: 5871 entries, 0 to 5870\n",
      "Data columns (total 7 columns):\n",
      " #   Column     Non-Null Count  Dtype  \n",
      "---  ------     --------------  -----  \n",
      " 0   Date       5871 non-null   object \n",
      " 1   Open       5870 non-null   float64\n",
      " 2   High       5870 non-null   float64\n",
      " 3   Low        5870 non-null   float64\n",
      " 4   Close      5870 non-null   float64\n",
      " 5   Adj Close  5870 non-null   float64\n",
      " 6   Volume     5870 non-null   float64\n",
      "dtypes: float64(6), object(1)\n",
      "memory usage: 321.2+ KB\n",
      "None\n",
      "              Open         High          Low        Close    Adj Close   \n",
      "count  5870.000000  5870.000000  5870.000000  5870.000000  5870.000000  \\\n",
      "mean     57.154211    57.766691    56.462038    57.141631    39.952336   \n",
      "std      22.898021    23.048186    22.728820    22.902308    21.623637   \n",
      "min      17.500000    17.905001    16.115000    17.400000    10.317184   \n",
      "25%      36.377500    36.799999    35.849998    36.312501    19.777506   \n",
      "50%      55.286501    56.355000    54.340000    55.149500    34.498163   \n",
      "75%      78.150002    78.849998    77.175001    78.056498    59.551217   \n",
      "max     122.889999   123.698997   120.224998   122.998001    92.601585   \n",
      "\n",
      "             Volume  \n",
      "count  5.870000e+03  \n",
      "mean   2.227072e+04  \n",
      "std    4.746621e+04  \n",
      "min    0.000000e+00  \n",
      "25%    4.394750e+03  \n",
      "50%    1.140000e+04  \n",
      "75%    2.560000e+04  \n",
      "max    1.486000e+06  \n"
     ]
    }
   ],
   "source": [
    "bmw_df = pd.read_csv(\"../data_acquisition/data_sink/source_files/data_dax/BMW/BMW.csv\")\n",
    "print(bmw_df)\n",
    "print(bmw_df.info())\n",
    "print(bmw_df.describe())"
   ],
   "metadata": {
    "collapsed": false,
    "ExecuteTime": {
     "end_time": "2023-06-29T11:54:41.668602900Z",
     "start_time": "2023-06-29T11:54:41.576609500Z"
    }
   }
  }
 ],
 "metadata": {
  "kernelspec": {
   "display_name": "Python 3",
   "language": "python",
   "name": "python3"
  },
  "language_info": {
   "codemirror_mode": {
    "name": "ipython",
    "version": 2
   },
   "file_extension": ".py",
   "mimetype": "text/x-python",
   "name": "python",
   "nbconvert_exporter": "python",
   "pygments_lexer": "ipython2",
   "version": "2.7.6"
  }
 },
 "nbformat": 4,
 "nbformat_minor": 0
}
