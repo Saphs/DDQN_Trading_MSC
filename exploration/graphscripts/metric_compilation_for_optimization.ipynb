{
 "cells": [
  {
   "cell_type": "code",
   "execution_count": null,
   "id": "initial_id",
   "metadata": {
    "collapsed": true
   },
   "outputs": [],
   "source": [
    "import os.path\n",
    "import re\n",
    "from pathlib import Path\n",
    "import pandas as pd\n",
    "from matplotlib import pyplot as plt\n",
    "from pandas import DataFrame\n"
   ]
  },
  {
   "cell_type": "code",
   "execution_count": null,
   "outputs": [],
   "source": [
    "\"\"\"Load files into memory\"\"\"\n",
    "\n",
    "# Baseline results\n",
    "TEST_RESULT_FOLDER = Path(\"C:\\\\Users\\\\tizia\\\\PycharmProjects\\\\DDQN_Trading_MSC\\\\model_archive\\\\TestResults\")\n",
    "GRAPH_OUTPUT = Path(\"./graphs\")\n",
    "OPTIMIZATION_TESTS = TEST_RESULT_FOLDER.joinpath(\"Optimizing_DDQN_refined\")\n",
    "METRICS_RELATIVE = \"final\\\\validation\\\\metrics.csv\"\n",
    "\n",
    "name_reg = re.compile(r\"DDQN_os(\\d+)_ws(\\d+)\")\n",
    "\n",
    "required_columns = ['model_name', 'mode', 'op_space', 'window_size', 'return', 'total_volatility']\n",
    "\n",
    "result_metrics = []\n",
    "ref_bh = None\n",
    "if os.path.exists(OPTIMIZATION_TESTS):\n",
    "    test_directories = os.listdir(OPTIMIZATION_TESTS)\n",
    "    print(f\"Found {len(test_directories)} test folders:\")\n",
    "    print(test_directories)\n",
    "    for i, test in enumerate(test_directories):\n",
    "        test_path = OPTIMIZATION_TESTS.joinpath(test)\n",
    "        for j, sample in enumerate(os.listdir(test_path)):\n",
    "            sample_path = test_path.joinpath(sample).joinpath(METRICS_RELATIVE)\n",
    "            sample_df = pd.read_csv(sample_path)\n",
    "            if i == 0 and j == 0:\n",
    "                ref_bh = sample_df.head(1)\n",
    "            sample_df = sample_df.tail(2)\n",
    "            sample_df['op_space'] = name_reg.search(test).group(1)\n",
    "            sample_df['window_size'] = name_reg.search(test).group(2)\n",
    "            sample_df['mode'] = sample_df['evaluation_mode'].apply(lambda x: \"Eval\" if x == True else \"Train\")\n",
    "            sample_df['model_name'] = test.strip(\"DDQN_\")\n",
    "            sample_df = sample_df[required_columns]\n",
    "            result_metrics.append(sample_df)\n",
    "\n",
    "else:\n",
    "    print(f\"Folder: {OPTIMIZATION_TESTS} was not found. Nothing was loaded.\")\n",
    "\n",
    "metrics = pd.concat(result_metrics)\n",
    "metrics = metrics.astype({'op_space': int, 'window_size': int})\n",
    "metrics"
   ],
   "metadata": {
    "collapsed": false
   },
   "id": "8bde5855876ebe5a"
  },
  {
   "cell_type": "code",
   "execution_count": null,
   "outputs": [],
   "source": [
    "\"\"\"Make box plots and lines\"\"\"\n",
    "metrics = metrics[metrics['mode'] == 'Train']\n",
    "\n",
    "\n",
    "fig, ax = plt.subplots(figsize=(12, 5))\n",
    "metrics.sort_values(by=['op_space', 'window_size'])\n",
    "metrics.boxplot(column=['return'], by=['op_space', 'window_size'], ax=ax)\n",
    "ax.axhline(y=ref_bh['return'][0], color='red', linestyle='dashed', label='Buy&Hold Return')\n",
    "plt.legend()\n",
    "plt.suptitle('')\n",
    "plt.title('Return comparison')\n",
    "plt.xlabel('Tuple of Observation space and Window size')\n",
    "plt.ylabel('Return factor')\n",
    "plt.savefig(GRAPH_OUTPUT.joinpath(\"op_ws_optimization.png\"))\n",
    "plt.close()\n",
    "\n",
    "fig, ax = plt.subplots(figsize=(12, 5))\n",
    "metrics.boxplot(column=['total_volatility'], by=['op_space', 'window_size'], ax=ax)\n",
    "ax.axhline(y=ref_bh['total_volatility'][0], color='red', linestyle='dashed', label='Buy&Hold Volatility')\n",
    "plt.legend()\n",
    "plt.suptitle('')\n",
    "plt.title('Volatility comparison')\n",
    "plt.xlabel('Tuple of Observation space and Window size')\n",
    "plt.ylabel('Total Volatility')\n",
    "plt.savefig(GRAPH_OUTPUT.joinpath(\"vol_optimization.png\"))\n",
    "plt.close()\n"
   ],
   "metadata": {
    "collapsed": false
   },
   "id": "b5219a58ad924df8"
  }
 ],
 "metadata": {
  "kernelspec": {
   "display_name": "Python 3",
   "language": "python",
   "name": "python3"
  },
  "language_info": {
   "codemirror_mode": {
    "name": "ipython",
    "version": 2
   },
   "file_extension": ".py",
   "mimetype": "text/x-python",
   "name": "python",
   "nbconvert_exporter": "python",
   "pygments_lexer": "ipython2",
   "version": "2.7.6"
  }
 },
 "nbformat": 4,
 "nbformat_minor": 5
}
