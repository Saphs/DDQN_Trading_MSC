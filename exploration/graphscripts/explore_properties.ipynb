{
 "cells": [
  {
   "cell_type": "code",
   "execution_count": 1,
   "id": "initial_id",
   "metadata": {
    "collapsed": true,
    "ExecuteTime": {
     "end_time": "2023-10-01T12:48:47.291050900Z",
     "start_time": "2023-10-01T12:48:45.961332500Z"
    }
   },
   "outputs": [],
   "source": [
    "import os.path\n",
    "from pathlib import Path\n",
    "import pandas as pd\n",
    "from matplotlib import pyplot as plt\n",
    "from pandas import DataFrame"
   ]
  },
  {
   "cell_type": "code",
   "execution_count": 15,
   "outputs": [
    {
     "name": "stdout",
     "output_type": "stream",
     "text": [
      "C:\\Users\\tizia\\PycharmProjects\\DDQN_Trading_MSC\\model_archive\\TestResults\\Handelbarkeit\\bmw.csv\n",
      "C:\\Users\\tizia\\PycharmProjects\\DDQN_Trading_MSC\\model_archive\\TestResults\\Handelbarkeit\\google.csv\n"
     ]
    },
    {
     "data": {
      "text/plain": "                   model_name             stock   mode    return   \n0      best_trained_on_bmw_d5             Apple  Train  0.543524  \\\n1      best_trained_on_bmw_d5             Apple   Eval  0.779105   \n2   best_trained_on_google_d1             Apple   Eval  1.129762   \n3   best_trained_on_google_d1             Apple  Train  1.624694   \n4   best_trained_on_google_d1               BMW  Train  0.255366   \n5   best_trained_on_google_d1               BMW   Eval  0.384956   \n6      best_trained_on_bmw_d5               BMW   Eval  0.207236   \n7      best_trained_on_bmw_d5               BMW  Train  0.373678   \n8      best_trained_on_bmw_d5     Deutsche Bank  Train  0.875982   \n9   best_trained_on_google_d1     Deutsche Bank   Eval -0.013812   \n10  best_trained_on_google_d1     Deutsche Bank  Train  1.437462   \n11     best_trained_on_bmw_d5     Deutsche Bank   Eval  1.022518   \n12     best_trained_on_bmw_d5  Deutsche Telekom  Train -0.184584   \n13     best_trained_on_bmw_d5  Deutsche Telekom   Eval -0.069246   \n14  best_trained_on_google_d1  Deutsche Telekom   Eval  0.289693   \n15  best_trained_on_google_d1  Deutsche Telekom  Train  0.231369   \n16     best_trained_on_bmw_d5              E.ON  Train  0.665175   \n17  best_trained_on_google_d1              E.ON   Eval -0.043152   \n18  best_trained_on_google_d1              E.ON  Train  1.098075   \n19     best_trained_on_bmw_d5              E.ON   Eval  0.573031   \n20  best_trained_on_google_d1            Google   Eval  0.014168   \n21  best_trained_on_google_d1            Google  Train  0.803970   \n22     best_trained_on_bmw_d5            Google   Eval  0.198409   \n23     best_trained_on_bmw_d5            Google  Train  0.158323   \n24  best_trained_on_google_d1        Henkel vz.   Eval -0.274509   \n25     best_trained_on_bmw_d5        Henkel vz.  Train  0.015312   \n26  best_trained_on_google_d1        Henkel vz.  Train -0.183570   \n27     best_trained_on_bmw_d5        Henkel vz.   Eval -0.178663   \n28     best_trained_on_bmw_d5          Infineon   Eval  0.222768   \n29     best_trained_on_bmw_d5          Infineon  Train  0.023121   \n30  best_trained_on_google_d1          Infineon  Train  4.269808   \n31  best_trained_on_google_d1          Infineon   Eval  0.285902   \n\n    total_volatility  bh_return  bh_volatility  \n0           0.401039   1.485282       0.543576  \n1           0.501327   1.485282       0.543576  \n2           0.519414   1.518529       0.568470  \n3           0.484948   1.518529       0.568470  \n4           0.546244  -0.103725       0.660975  \n5           0.553176  -0.103725       0.660975  \n6           0.494920  -0.103142       0.660994  \n7           0.537133  -0.103142       0.660994  \n8           0.685759   0.009197       0.927698  \n9           0.904028  -0.012404       0.904037  \n10          0.719087  -0.012404       0.904037  \n11          0.809288   0.009197       0.927698  \n12          0.355436   0.315756       0.467299  \n13          0.400239   0.315756       0.467299  \n14          0.461110   0.289693       0.461110  \n15          0.385194   0.289693       0.461110  \n16          0.381844  -0.043656       0.495900  \n17          0.497907  -0.043152       0.497907  \n18          0.374213  -0.043152       0.497907  \n19          0.411356  -0.043656       0.495900  \n20          0.043481   0.370316       0.463065  \n21          0.383819   0.370316       0.463065  \n22          0.307326   0.338895       0.347185  \n23          0.273564   0.338895       0.347185  \n24          0.401640  -0.380239       0.502551  \n25          0.341664  -0.374881       0.485559  \n26          0.430514  -0.380239       0.502551  \n27          0.354587  -0.374881       0.485559  \n28          0.800279   0.271836       0.883944  \n29          0.653202   0.271836       0.883944  \n30          0.768571   0.245667       0.899551  \n31          0.898570   0.245667       0.899551  ",
      "text/html": "<div>\n<style scoped>\n    .dataframe tbody tr th:only-of-type {\n        vertical-align: middle;\n    }\n\n    .dataframe tbody tr th {\n        vertical-align: top;\n    }\n\n    .dataframe thead th {\n        text-align: right;\n    }\n</style>\n<table border=\"1\" class=\"dataframe\">\n  <thead>\n    <tr style=\"text-align: right;\">\n      <th></th>\n      <th>model_name</th>\n      <th>stock</th>\n      <th>mode</th>\n      <th>return</th>\n      <th>total_volatility</th>\n      <th>bh_return</th>\n      <th>bh_volatility</th>\n    </tr>\n  </thead>\n  <tbody>\n    <tr>\n      <th>0</th>\n      <td>best_trained_on_bmw_d5</td>\n      <td>Apple</td>\n      <td>Train</td>\n      <td>0.543524</td>\n      <td>0.401039</td>\n      <td>1.485282</td>\n      <td>0.543576</td>\n    </tr>\n    <tr>\n      <th>1</th>\n      <td>best_trained_on_bmw_d5</td>\n      <td>Apple</td>\n      <td>Eval</td>\n      <td>0.779105</td>\n      <td>0.501327</td>\n      <td>1.485282</td>\n      <td>0.543576</td>\n    </tr>\n    <tr>\n      <th>2</th>\n      <td>best_trained_on_google_d1</td>\n      <td>Apple</td>\n      <td>Eval</td>\n      <td>1.129762</td>\n      <td>0.519414</td>\n      <td>1.518529</td>\n      <td>0.568470</td>\n    </tr>\n    <tr>\n      <th>3</th>\n      <td>best_trained_on_google_d1</td>\n      <td>Apple</td>\n      <td>Train</td>\n      <td>1.624694</td>\n      <td>0.484948</td>\n      <td>1.518529</td>\n      <td>0.568470</td>\n    </tr>\n    <tr>\n      <th>4</th>\n      <td>best_trained_on_google_d1</td>\n      <td>BMW</td>\n      <td>Train</td>\n      <td>0.255366</td>\n      <td>0.546244</td>\n      <td>-0.103725</td>\n      <td>0.660975</td>\n    </tr>\n    <tr>\n      <th>5</th>\n      <td>best_trained_on_google_d1</td>\n      <td>BMW</td>\n      <td>Eval</td>\n      <td>0.384956</td>\n      <td>0.553176</td>\n      <td>-0.103725</td>\n      <td>0.660975</td>\n    </tr>\n    <tr>\n      <th>6</th>\n      <td>best_trained_on_bmw_d5</td>\n      <td>BMW</td>\n      <td>Eval</td>\n      <td>0.207236</td>\n      <td>0.494920</td>\n      <td>-0.103142</td>\n      <td>0.660994</td>\n    </tr>\n    <tr>\n      <th>7</th>\n      <td>best_trained_on_bmw_d5</td>\n      <td>BMW</td>\n      <td>Train</td>\n      <td>0.373678</td>\n      <td>0.537133</td>\n      <td>-0.103142</td>\n      <td>0.660994</td>\n    </tr>\n    <tr>\n      <th>8</th>\n      <td>best_trained_on_bmw_d5</td>\n      <td>Deutsche Bank</td>\n      <td>Train</td>\n      <td>0.875982</td>\n      <td>0.685759</td>\n      <td>0.009197</td>\n      <td>0.927698</td>\n    </tr>\n    <tr>\n      <th>9</th>\n      <td>best_trained_on_google_d1</td>\n      <td>Deutsche Bank</td>\n      <td>Eval</td>\n      <td>-0.013812</td>\n      <td>0.904028</td>\n      <td>-0.012404</td>\n      <td>0.904037</td>\n    </tr>\n    <tr>\n      <th>10</th>\n      <td>best_trained_on_google_d1</td>\n      <td>Deutsche Bank</td>\n      <td>Train</td>\n      <td>1.437462</td>\n      <td>0.719087</td>\n      <td>-0.012404</td>\n      <td>0.904037</td>\n    </tr>\n    <tr>\n      <th>11</th>\n      <td>best_trained_on_bmw_d5</td>\n      <td>Deutsche Bank</td>\n      <td>Eval</td>\n      <td>1.022518</td>\n      <td>0.809288</td>\n      <td>0.009197</td>\n      <td>0.927698</td>\n    </tr>\n    <tr>\n      <th>12</th>\n      <td>best_trained_on_bmw_d5</td>\n      <td>Deutsche Telekom</td>\n      <td>Train</td>\n      <td>-0.184584</td>\n      <td>0.355436</td>\n      <td>0.315756</td>\n      <td>0.467299</td>\n    </tr>\n    <tr>\n      <th>13</th>\n      <td>best_trained_on_bmw_d5</td>\n      <td>Deutsche Telekom</td>\n      <td>Eval</td>\n      <td>-0.069246</td>\n      <td>0.400239</td>\n      <td>0.315756</td>\n      <td>0.467299</td>\n    </tr>\n    <tr>\n      <th>14</th>\n      <td>best_trained_on_google_d1</td>\n      <td>Deutsche Telekom</td>\n      <td>Eval</td>\n      <td>0.289693</td>\n      <td>0.461110</td>\n      <td>0.289693</td>\n      <td>0.461110</td>\n    </tr>\n    <tr>\n      <th>15</th>\n      <td>best_trained_on_google_d1</td>\n      <td>Deutsche Telekom</td>\n      <td>Train</td>\n      <td>0.231369</td>\n      <td>0.385194</td>\n      <td>0.289693</td>\n      <td>0.461110</td>\n    </tr>\n    <tr>\n      <th>16</th>\n      <td>best_trained_on_bmw_d5</td>\n      <td>E.ON</td>\n      <td>Train</td>\n      <td>0.665175</td>\n      <td>0.381844</td>\n      <td>-0.043656</td>\n      <td>0.495900</td>\n    </tr>\n    <tr>\n      <th>17</th>\n      <td>best_trained_on_google_d1</td>\n      <td>E.ON</td>\n      <td>Eval</td>\n      <td>-0.043152</td>\n      <td>0.497907</td>\n      <td>-0.043152</td>\n      <td>0.497907</td>\n    </tr>\n    <tr>\n      <th>18</th>\n      <td>best_trained_on_google_d1</td>\n      <td>E.ON</td>\n      <td>Train</td>\n      <td>1.098075</td>\n      <td>0.374213</td>\n      <td>-0.043152</td>\n      <td>0.497907</td>\n    </tr>\n    <tr>\n      <th>19</th>\n      <td>best_trained_on_bmw_d5</td>\n      <td>E.ON</td>\n      <td>Eval</td>\n      <td>0.573031</td>\n      <td>0.411356</td>\n      <td>-0.043656</td>\n      <td>0.495900</td>\n    </tr>\n    <tr>\n      <th>20</th>\n      <td>best_trained_on_google_d1</td>\n      <td>Google</td>\n      <td>Eval</td>\n      <td>0.014168</td>\n      <td>0.043481</td>\n      <td>0.370316</td>\n      <td>0.463065</td>\n    </tr>\n    <tr>\n      <th>21</th>\n      <td>best_trained_on_google_d1</td>\n      <td>Google</td>\n      <td>Train</td>\n      <td>0.803970</td>\n      <td>0.383819</td>\n      <td>0.370316</td>\n      <td>0.463065</td>\n    </tr>\n    <tr>\n      <th>22</th>\n      <td>best_trained_on_bmw_d5</td>\n      <td>Google</td>\n      <td>Eval</td>\n      <td>0.198409</td>\n      <td>0.307326</td>\n      <td>0.338895</td>\n      <td>0.347185</td>\n    </tr>\n    <tr>\n      <th>23</th>\n      <td>best_trained_on_bmw_d5</td>\n      <td>Google</td>\n      <td>Train</td>\n      <td>0.158323</td>\n      <td>0.273564</td>\n      <td>0.338895</td>\n      <td>0.347185</td>\n    </tr>\n    <tr>\n      <th>24</th>\n      <td>best_trained_on_google_d1</td>\n      <td>Henkel vz.</td>\n      <td>Eval</td>\n      <td>-0.274509</td>\n      <td>0.401640</td>\n      <td>-0.380239</td>\n      <td>0.502551</td>\n    </tr>\n    <tr>\n      <th>25</th>\n      <td>best_trained_on_bmw_d5</td>\n      <td>Henkel vz.</td>\n      <td>Train</td>\n      <td>0.015312</td>\n      <td>0.341664</td>\n      <td>-0.374881</td>\n      <td>0.485559</td>\n    </tr>\n    <tr>\n      <th>26</th>\n      <td>best_trained_on_google_d1</td>\n      <td>Henkel vz.</td>\n      <td>Train</td>\n      <td>-0.183570</td>\n      <td>0.430514</td>\n      <td>-0.380239</td>\n      <td>0.502551</td>\n    </tr>\n    <tr>\n      <th>27</th>\n      <td>best_trained_on_bmw_d5</td>\n      <td>Henkel vz.</td>\n      <td>Eval</td>\n      <td>-0.178663</td>\n      <td>0.354587</td>\n      <td>-0.374881</td>\n      <td>0.485559</td>\n    </tr>\n    <tr>\n      <th>28</th>\n      <td>best_trained_on_bmw_d5</td>\n      <td>Infineon</td>\n      <td>Eval</td>\n      <td>0.222768</td>\n      <td>0.800279</td>\n      <td>0.271836</td>\n      <td>0.883944</td>\n    </tr>\n    <tr>\n      <th>29</th>\n      <td>best_trained_on_bmw_d5</td>\n      <td>Infineon</td>\n      <td>Train</td>\n      <td>0.023121</td>\n      <td>0.653202</td>\n      <td>0.271836</td>\n      <td>0.883944</td>\n    </tr>\n    <tr>\n      <th>30</th>\n      <td>best_trained_on_google_d1</td>\n      <td>Infineon</td>\n      <td>Train</td>\n      <td>4.269808</td>\n      <td>0.768571</td>\n      <td>0.245667</td>\n      <td>0.899551</td>\n    </tr>\n    <tr>\n      <th>31</th>\n      <td>best_trained_on_google_d1</td>\n      <td>Infineon</td>\n      <td>Eval</td>\n      <td>0.285902</td>\n      <td>0.898570</td>\n      <td>0.245667</td>\n      <td>0.899551</td>\n    </tr>\n  </tbody>\n</table>\n</div>"
     },
     "execution_count": 15,
     "metadata": {},
     "output_type": "execute_result"
    }
   ],
   "source": [
    "base_path = Path(\"C:\\\\Users\\\\tizia\\\\PycharmProjects\\\\DDQN_Trading_MSC\\\\model_archive\\\\TestResults\\\\Handelbarkeit\")\n",
    "bmw_path = \"bmw.csv\"\n",
    "google_path = \"google.csv\"\n",
    "paths: list[Path] = [\n",
    "    base_path.joinpath(bmw_path),\n",
    "    base_path.joinpath(google_path)\n",
    "]\n",
    "\n",
    "dfs = []\n",
    "for p in paths:\n",
    "    print(p)\n",
    "    dfs.append(pd.read_csv(p))\n",
    "\n",
    "df = pd.concat(dfs).drop(columns=['Unnamed: 0']).sort_values(by='stock').reset_index(drop=True)\n",
    "df"
   ],
   "metadata": {
    "collapsed": false,
    "ExecuteTime": {
     "end_time": "2023-10-01T12:57:35.207694900Z",
     "start_time": "2023-10-01T12:57:35.169205800Z"
    }
   },
   "id": "772f571ac5a534c"
  },
  {
   "cell_type": "code",
   "execution_count": 17,
   "outputs": [
    {
     "data": {
      "text/plain": "                                             mode    return  total_volatility   \nmodel_name                stock                                                 \nbest_trained_on_bmw_d5    Apple             Train  0.779105          0.501327  \\\n                          BMW               Train  0.373678          0.537133   \n                          Deutsche Bank     Train  1.022518          0.809288   \n                          Deutsche Telekom  Train -0.069246          0.400239   \n                          E.ON              Train  0.665175          0.411356   \n                          Google            Train  0.198409          0.307326   \n                          Henkel vz.        Train  0.015312          0.354587   \n                          Infineon          Train  0.222768          0.800279   \nbest_trained_on_google_d1 Apple             Train  1.624694          0.519414   \n                          BMW               Train  0.384956          0.553176   \n                          Deutsche Bank     Train  1.437462          0.904028   \n                          Deutsche Telekom  Train  0.289693          0.461110   \n                          E.ON              Train  1.098075          0.497907   \n                          Google            Train  0.803970          0.383819   \n                          Henkel vz.        Train -0.183570          0.430514   \n                          Infineon          Train  4.269808          0.898570   \n\n                                            bh_return  bh_volatility     delta  \nmodel_name                stock                                                 \nbest_trained_on_bmw_d5    Apple              1.485282       0.543576 -0.706177  \n                          BMW               -0.103142       0.660994  0.476820  \n                          Deutsche Bank      0.009197       0.927698  1.013321  \n                          Deutsche Telekom   0.315756       0.467299 -0.385002  \n                          E.ON              -0.043656       0.495900  0.708831  \n                          Google             0.338895       0.347185 -0.140486  \n                          Henkel vz.        -0.374881       0.485559  0.390193  \n                          Infineon           0.271836       0.883944 -0.049068  \nbest_trained_on_google_d1 Apple              1.518529       0.568470  0.106165  \n                          BMW               -0.103725       0.660975  0.488681  \n                          Deutsche Bank     -0.012404       0.904037  1.449866  \n                          Deutsche Telekom   0.289693       0.461110  0.000000  \n                          E.ON              -0.043152       0.497907  1.141227  \n                          Google             0.370316       0.463065  0.433654  \n                          Henkel vz.        -0.380239       0.502551  0.196669  \n                          Infineon           0.245667       0.899551  4.024141  ",
      "text/html": "<div>\n<style scoped>\n    .dataframe tbody tr th:only-of-type {\n        vertical-align: middle;\n    }\n\n    .dataframe tbody tr th {\n        vertical-align: top;\n    }\n\n    .dataframe thead th {\n        text-align: right;\n    }\n</style>\n<table border=\"1\" class=\"dataframe\">\n  <thead>\n    <tr style=\"text-align: right;\">\n      <th></th>\n      <th></th>\n      <th>mode</th>\n      <th>return</th>\n      <th>total_volatility</th>\n      <th>bh_return</th>\n      <th>bh_volatility</th>\n      <th>delta</th>\n    </tr>\n    <tr>\n      <th>model_name</th>\n      <th>stock</th>\n      <th></th>\n      <th></th>\n      <th></th>\n      <th></th>\n      <th></th>\n      <th></th>\n    </tr>\n  </thead>\n  <tbody>\n    <tr>\n      <th rowspan=\"8\" valign=\"top\">best_trained_on_bmw_d5</th>\n      <th>Apple</th>\n      <td>Train</td>\n      <td>0.779105</td>\n      <td>0.501327</td>\n      <td>1.485282</td>\n      <td>0.543576</td>\n      <td>-0.706177</td>\n    </tr>\n    <tr>\n      <th>BMW</th>\n      <td>Train</td>\n      <td>0.373678</td>\n      <td>0.537133</td>\n      <td>-0.103142</td>\n      <td>0.660994</td>\n      <td>0.476820</td>\n    </tr>\n    <tr>\n      <th>Deutsche Bank</th>\n      <td>Train</td>\n      <td>1.022518</td>\n      <td>0.809288</td>\n      <td>0.009197</td>\n      <td>0.927698</td>\n      <td>1.013321</td>\n    </tr>\n    <tr>\n      <th>Deutsche Telekom</th>\n      <td>Train</td>\n      <td>-0.069246</td>\n      <td>0.400239</td>\n      <td>0.315756</td>\n      <td>0.467299</td>\n      <td>-0.385002</td>\n    </tr>\n    <tr>\n      <th>E.ON</th>\n      <td>Train</td>\n      <td>0.665175</td>\n      <td>0.411356</td>\n      <td>-0.043656</td>\n      <td>0.495900</td>\n      <td>0.708831</td>\n    </tr>\n    <tr>\n      <th>Google</th>\n      <td>Train</td>\n      <td>0.198409</td>\n      <td>0.307326</td>\n      <td>0.338895</td>\n      <td>0.347185</td>\n      <td>-0.140486</td>\n    </tr>\n    <tr>\n      <th>Henkel vz.</th>\n      <td>Train</td>\n      <td>0.015312</td>\n      <td>0.354587</td>\n      <td>-0.374881</td>\n      <td>0.485559</td>\n      <td>0.390193</td>\n    </tr>\n    <tr>\n      <th>Infineon</th>\n      <td>Train</td>\n      <td>0.222768</td>\n      <td>0.800279</td>\n      <td>0.271836</td>\n      <td>0.883944</td>\n      <td>-0.049068</td>\n    </tr>\n    <tr>\n      <th rowspan=\"8\" valign=\"top\">best_trained_on_google_d1</th>\n      <th>Apple</th>\n      <td>Train</td>\n      <td>1.624694</td>\n      <td>0.519414</td>\n      <td>1.518529</td>\n      <td>0.568470</td>\n      <td>0.106165</td>\n    </tr>\n    <tr>\n      <th>BMW</th>\n      <td>Train</td>\n      <td>0.384956</td>\n      <td>0.553176</td>\n      <td>-0.103725</td>\n      <td>0.660975</td>\n      <td>0.488681</td>\n    </tr>\n    <tr>\n      <th>Deutsche Bank</th>\n      <td>Train</td>\n      <td>1.437462</td>\n      <td>0.904028</td>\n      <td>-0.012404</td>\n      <td>0.904037</td>\n      <td>1.449866</td>\n    </tr>\n    <tr>\n      <th>Deutsche Telekom</th>\n      <td>Train</td>\n      <td>0.289693</td>\n      <td>0.461110</td>\n      <td>0.289693</td>\n      <td>0.461110</td>\n      <td>0.000000</td>\n    </tr>\n    <tr>\n      <th>E.ON</th>\n      <td>Train</td>\n      <td>1.098075</td>\n      <td>0.497907</td>\n      <td>-0.043152</td>\n      <td>0.497907</td>\n      <td>1.141227</td>\n    </tr>\n    <tr>\n      <th>Google</th>\n      <td>Train</td>\n      <td>0.803970</td>\n      <td>0.383819</td>\n      <td>0.370316</td>\n      <td>0.463065</td>\n      <td>0.433654</td>\n    </tr>\n    <tr>\n      <th>Henkel vz.</th>\n      <td>Train</td>\n      <td>-0.183570</td>\n      <td>0.430514</td>\n      <td>-0.380239</td>\n      <td>0.502551</td>\n      <td>0.196669</td>\n    </tr>\n    <tr>\n      <th>Infineon</th>\n      <td>Train</td>\n      <td>4.269808</td>\n      <td>0.898570</td>\n      <td>0.245667</td>\n      <td>0.899551</td>\n      <td>4.024141</td>\n    </tr>\n  </tbody>\n</table>\n</div>"
     },
     "execution_count": 17,
     "metadata": {},
     "output_type": "execute_result"
    }
   ],
   "source": [
    "grp = df.groupby(['model_name','stock']).max()\n",
    "grp['delta'] = grp['return'] - grp['bh_return']\n",
    "grp"
   ],
   "metadata": {
    "collapsed": false,
    "ExecuteTime": {
     "end_time": "2023-10-01T13:08:20.169421900Z",
     "start_time": "2023-10-01T13:08:20.136423400Z"
    }
   },
   "id": "863cf77b8eafac7c"
  }
 ],
 "metadata": {
  "kernelspec": {
   "display_name": "Python 3",
   "language": "python",
   "name": "python3"
  },
  "language_info": {
   "codemirror_mode": {
    "name": "ipython",
    "version": 2
   },
   "file_extension": ".py",
   "mimetype": "text/x-python",
   "name": "python",
   "nbconvert_exporter": "python",
   "pygments_lexer": "ipython2",
   "version": "2.7.6"
  }
 },
 "nbformat": 4,
 "nbformat_minor": 5
}
