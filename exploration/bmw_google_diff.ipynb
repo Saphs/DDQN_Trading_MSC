{
 "cells": [
  {
   "cell_type": "code",
   "execution_count": null,
   "metadata": {},
   "outputs": [],
   "source": [
    "import pandas as pd\n",
    "\n"
   ]
  },
  {
   "cell_type": "code",
   "execution_count": null,
   "metadata": {},
   "outputs": [],
   "source": [
    "google_df = pd.read_csv(\"../data_acquisition/data_sink/source_files/GOOGL.csv\")\n",
    "print(google_df)\n",
    "print(google_df.info())\n",
    "print(google_df.describe())"
   ]
  },
  {
   "cell_type": "code",
   "execution_count": null,
   "metadata": {},
   "outputs": [],
   "source": [
    "bmw_df = pd.read_csv(\"../data_acquisition/data_sink/source_files/data_dax/BMW/BMW.csv\")\n",
    "print(bmw_df)\n",
    "print(bmw_df.info())\n",
    "print(bmw_df.describe())"
   ]
  }
 ],
 "metadata": {
  "kernelspec": {
   "display_name": "Python 3",
   "language": "python",
   "name": "python3"
  },
  "language_info": {
   "codemirror_mode": {
    "name": "ipython",
    "version": 2
   },
   "file_extension": ".py",
   "mimetype": "text/x-python",
   "name": "python",
   "nbconvert_exporter": "python",
   "pygments_lexer": "ipython2",
   "version": "2.7.6"
  }
 },
 "nbformat": 4,
 "nbformat_minor": 0
}
