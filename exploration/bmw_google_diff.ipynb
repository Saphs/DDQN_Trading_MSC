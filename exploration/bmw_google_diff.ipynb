{
 "cells": [
  {
   "cell_type": "code",
   "execution_count": null,
   "metadata": {},
   "outputs": [],
   "source": [
    "import pandas as pd\n",
    "\n"
   ]
  },
  {
   "cell_type": "code",
   "execution_count": null,
   "metadata": {},
   "outputs": [],
   "source": [
    "yosh_df = pd.read_csv(\"/home/trettig/Downloads/yoshi_noten.csv\", index_col=\"Unnamed: 0\")\n",
    "yosh_df"
   ]
  },
  {
   "cell_type": "code",
   "execution_count": null,
   "metadata": {},
   "outputs": [],
   "source": [
    "remove_list_status = ['nicht bestanden']\n",
    "yosh_df = yosh_df[~yosh_df['Status'].isin(remove_list_status)]\n",
    "remove_list_nr = [1010, 1020, 1050, 1060, 1070, 2010, 2020, 2050, 2060, 3010, 3020, 3050, 3060, 4010, 4020, 4050, 4060, 5010, 5050, 5060, 6030, 6020, 6010, 8900, 103040, 203040, 303040, 403040, 503040, 4061, 4062, 90821001, 7196, 7161]\n",
    "clean_yosh_df = yosh_df[~yosh_df[\"ID\"].isin(remove_list_nr)]\n",
    "not_yosh_df = yosh_df[yosh_df['ID'].isin(remove_list_nr)]\n",
    "clean_yosh_df.at[41, 'CP'] = \"2.5\"\n",
    "clean_yosh_df"
   ]
  },
  {
   "cell_type": "code",
   "execution_count": null,
   "metadata": {},
   "outputs": [],
   "source": [
    "clean_yosh_df[\"CP\"] = clean_yosh_df[\"CP\"].str.replace(',', '.')\n",
    "clean_yosh_df[\"Note\"] = clean_yosh_df[\"Note\"].str.replace(\" Leistungen anzeigen\", \"\")\n",
    "\n",
    "clean_yosh_df[\"CP\"].astype('float64').sum()\n",
    "\n"
   ]
  },
  {
   "cell_type": "code",
   "execution_count": null,
   "metadata": {},
   "outputs": [],
   "source": [
    "df = clean_yosh_df\n",
    "\n",
    "max_cp = 178\n",
    "\n",
    "sum = 0\n",
    "for i, row in df.iterrows():\n",
    "    note_as_float =  float(row['Note'].replace(\",\", \".\"))\n",
    "    sum += note_as_float * (float(row['CP']) / max_cp)\n",
    "\n",
    "sum"
   ]
  },
  {
   "cell_type": "code",
   "execution_count": null,
   "metadata": {},
   "outputs": [],
   "source": [
    "not_yosh_df.reset_index(drop=True)"
   ]
  },
  {
   "cell_type": "code",
   "execution_count": null,
   "metadata": {},
   "outputs": [],
   "source": [
    "bmw_df = pd.read_csv(\"../data_acquisition/data_sink/source_files/data_dax/BMW/BMW.csv\")\n",
    "print(bmw_df)\n",
    "print(bmw_df.info())\n",
    "print(bmw_df.describe())"
   ]
  }
 ],
 "metadata": {
  "kernelspec": {
   "display_name": "Python 3",
   "language": "python",
   "name": "python3"
  },
  "language_info": {
   "codemirror_mode": {
    "name": "ipython",
    "version": 2
   },
   "file_extension": ".py",
   "mimetype": "text/x-python",
   "name": "python",
   "nbconvert_exporter": "python",
   "pygments_lexer": "ipython2",
   "version": "2.7.6"
  }
 },
 "nbformat": 4,
 "nbformat_minor": 0
}
